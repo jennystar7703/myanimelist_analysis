{
 "cells": [
  {
   "cell_type": "code",
   "execution_count": 19,
   "id": "bce5eb08",
   "metadata": {},
   "outputs": [
    {
     "name": "stdout",
     "output_type": "stream",
     "text": [
      "Comment: I really enjoyed this video. Thanks for sharing!\n",
      "Sentiment scores: {'neg': 0.0, 'neu': 0.294, 'pos': 0.706, 'compound': 0.862}\n",
      "\n",
      "Comment: This video was terrible. I hated it!\n",
      "Sentiment scores: {'neg': 0.655, 'neu': 0.345, 'pos': 0.0, 'compound': -0.8221}\n",
      "\n",
      "Comment: I don't have strong feelings about this video.\n",
      "Sentiment scores: {'neg': 0.311, 'neu': 0.689, 'pos': 0.0, 'compound': -0.4023}\n",
      "\n",
      "Comment: what the hell this episode, it&#039;s really quite ultra romantic but i love it!\n",
      "Sentiment scores: {'neg': 0.133, 'neu': 0.476, 'pos': 0.391, 'compound': 0.7516}\n",
      "\n"
     ]
    }
   ],
   "source": [
    "import nltk\n",
    "from nltk.sentiment import SentimentIntensityAnalyzer\n",
    "\n",
    "comments = [\"I really enjoyed this video. Thanks for sharing!\",\n",
    "            \"This video was terrible. I hated it!\",\n",
    "            \"I don't have strong feelings about this video.\",\n",
    "            \"what the hell this episode, it&#039;s really quite ultra romantic but i love it!\"]\n",
    "\n",
    "sia = SentimentIntensityAnalyzer()\n",
    "\n",
    "for comment in comments:\n",
    "    scores = sia.polarity_scores(comment)\n",
    "    print(f\"Comment: {comment}\\nSentiment scores: {scores}\\n\")"
   ]
  },
  {
   "cell_type": "code",
   "execution_count": 18,
   "id": "6f6daf24",
   "metadata": {},
   "outputs": [
    {
     "name": "stdout",
     "output_type": "stream",
     "text": [
      "[0.375, -1.0, 0.4333333333333333, 0.27499999999999997]\n"
     ]
    }
   ],
   "source": [
    "# Define a list of comments\n",
    "comments = [\"I really enjoyed this video. Thanks for sharing!\",\n",
    "            \"This video was terrible. I hated it!\",\n",
    "            \"I don't have strong feelings about this video.\",\n",
    "            \"what the hell this episode, it&#039;s really quite ultra romantic but i love it!\"]\n",
    "\n",
    "# Create a list of sentiment scores\n",
    "sentiment_scores = [TextBlob(comment).sentiment.polarity for comment in comments]\n",
    "\n",
    "# Print the sentiment scores\n",
    "print(sentiment_scores)"
   ]
  },
  {
   "cell_type": "code",
   "execution_count": 20,
   "id": "04067841",
   "metadata": {},
   "outputs": [
    {
     "name": "stdout",
     "output_type": "stream",
     "text": [
      "Comment: I really enjoyed this video. Thanks for sharing!\n",
      "Sentiment scores: {'neg': 0.0, 'neu': 0.294, 'pos': 0.706, 'compound': 0.862}\n",
      "\n",
      "Comment: This video was terrible. I hated it!\n",
      "Sentiment scores: {'neg': 0.655, 'neu': 0.345, 'pos': 0.0, 'compound': -0.8221}\n",
      "\n",
      "Comment: I don't have strong feelings about this video.\n",
      "Sentiment scores: {'neg': 0.311, 'neu': 0.689, 'pos': 0.0, 'compound': -0.4023}\n",
      "\n",
      "Comment: what the hell this episode, it&#039;s really quite ultra romantic but i love it!\n",
      "Sentiment scores: {'neg': 0.133, 'neu': 0.476, 'pos': 0.391, 'compound': 0.7516}\n",
      "\n"
     ]
    }
   ],
   "source": [
    "from nltk.sentiment.vader import SentimentIntensityAnalyzer\n",
    "\n",
    "comments = [\"I really enjoyed this video. Thanks for sharing!\",\n",
    "            \"This video was terrible. I hated it!\",\n",
    "            \"I don't have strong feelings about this video.\",\n",
    "            \"what the hell this episode, it&#039;s really quite ultra romantic but i love it!\"]\n",
    "\n",
    "sia = SentimentIntensityAnalyzer()\n",
    "\n",
    "for comment in comments:\n",
    "    scores = sia.polarity_scores(comment)\n",
    "    print(f\"Comment: {comment}\\nSentiment scores: {scores}\\n\")\n"
   ]
  },
  {
   "cell_type": "code",
   "execution_count": 3,
   "id": "3046f227",
   "metadata": {},
   "outputs": [
    {
     "name": "stdout",
     "output_type": "stream",
     "text": [
      "                                             message  \\\n",
      "0  It was strange how they split the episode in t...   \n",
      "1                                  💯💯💯  goat episode   \n",
      "2  Watched a little bit ago, Absolutely amazing e...   \n",
      "3  the genuine urge to punch every wall in my hou...   \n",
      "4                               absolute masterpiece   \n",
      "\n",
      "                                     cleaned_message  sentiment  \n",
      "0  strange split episode two damn absolutely wort...   0.416667  \n",
      "1                                       goat episode   0.000000  \n",
      "2  watched little bit ago absolutely amazing epis...   0.124858  \n",
      "3  genuine urge punch every wall house balloon po...   0.400000  \n",
      "4                               absolute masterpiece   0.200000  \n"
     ]
    }
   ],
   "source": [
    "import pandas as pd\n",
    "from textblob import TextBlob\n",
    "\n",
    "# Read in the CSV file\n",
    "df = pd.read_csv('cleaned_forum_data.csv')\n",
    "\n",
    "# Fill any NaN values in the 'cleaned_message' column with an empty string\n",
    "df['cleaned_message'] = df['cleaned_message'].fillna('')\n",
    "\n",
    "# Define a function to get the sentiment polarity for a given text\n",
    "def get_sentiment(text):\n",
    "    blob = TextBlob(str(text))\n",
    "    return blob.sentiment.polarity\n",
    "\n",
    "# Apply the get_sentiment function to the 'cleaned_message' column of the DataFrame\n",
    "df['sentiment'] = df['cleaned_message'].apply(get_sentiment)\n",
    "\n",
    "df.to_csv('sentiment_analysis_results.csv', index=False)\n",
    "\n",
    "# Print the DataFrame to see the results\n",
    "print(df.head())"
   ]
  }
 ],
 "metadata": {
  "kernelspec": {
   "display_name": "Python 3",
   "language": "python",
   "name": "python3"
  },
  "language_info": {
   "codemirror_mode": {
    "name": "ipython",
    "version": 3
   },
   "file_extension": ".py",
   "mimetype": "text/x-python",
   "name": "python",
   "nbconvert_exporter": "python",
   "pygments_lexer": "ipython3",
   "version": "3.10.9"
  },
  "vscode": {
   "interpreter": {
    "hash": "26de051ba29f2982a8de78e945f0abaf191376122a1563185a90213a26c5da77"
   }
  }
 },
 "nbformat": 4,
 "nbformat_minor": 5
}
